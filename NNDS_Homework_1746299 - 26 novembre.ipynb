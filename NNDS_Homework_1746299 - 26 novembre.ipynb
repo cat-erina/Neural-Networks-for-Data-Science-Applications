{
  "nbformat": 4,
  "nbformat_minor": 0,
  "metadata": {
    "colab": {
      "name": "NNDS_Homework_Definitivo.ipynb",
      "provenance": [],
      "collapsed_sections": [
        "wAEgygyPfO7b",
        "Rl9dZ3HambSz"
      ]
    },
    "kernelspec": {
      "name": "python3",
      "display_name": "Python 3"
    },
    "accelerator": "GPU"
  },
  "cells": [
    {
      "cell_type": "markdown",
      "metadata": {
        "id": "sdnnRxTNdyW1"
      },
      "source": [
        "# Neural Networks for Data Science Applications\n",
        "## Mid-term Homework: Implementing a custom activation function\n",
        "\n",
        "**Name**: *Caterina Alfano*\n",
        "\n",
        "**Matricola**: *1746299*\n",
        "\n",
        "Send the completed notebook before 26/11/2020 back to **simone.scardapane@uniroma1.it** with the object \"[NNDS] Homework_1_\\<id\\>\"."
      ]
    },
    {
      "cell_type": "code",
      "metadata": {
        "id": "PEr8qV6-nMuL"
      },
      "source": [
        "import tensorflow as tf"
      ],
      "execution_count": 2,
      "outputs": []
    },
    {
      "cell_type": "markdown",
      "metadata": {
        "id": "wAEgygyPfO7b"
      },
      "source": [
        "### Introduction\n",
        "\n",
        "The **exponential linear unit** (ELU) is an activation function defined as [1]:\n",
        "\n",
        "$$\n",
        "\\phi(x) =\n",
        "\\Biggl\\{ \n",
        "\\begin{align} \n",
        "x & \\;\\; \\text{ if } x \\ge 0 \\\\\n",
        "\\alpha \\left(\\exp\\left(x\\right)- 1\\right) & \\;\\; \\text{ otherwise } \n",
        "\\end{align}\n",
        "\\Bigr.\n",
        "\\,,\n",
        "$$\n",
        "\n",
        "where $\\alpha$ is a hyper-parameter. The function is implemented in `tf.keras.layers.ELU` (see the [documentation](https://www.tensorflow.org/api_docs/python/tf/keras/layers/ELU)).\n",
        "\n",
        "The **parametric ELU** (PELU) extends the ELU activation function as [2]:\n",
        "\n",
        "$$\n",
        "\\phi(x) =\n",
        "\\Biggl\\{ \n",
        "\\begin{align} \n",
        "\\frac{\\alpha}{\\beta}x & \\;\\; \\text{ if } x \\ge 0 \\\\\n",
        "\\alpha \\left(\\exp\\Bigl(\\frac{x}{\\beta}\\Bigr)- 1\\right) & \\;\\; \\text{ otherwise } \n",
        "\\end{align}\n",
        "\\Bigr.\n",
        "\\,,\n",
        "$$\n",
        "\n",
        "where the major difference is that $\\alpha,\\beta > 0$ are *trainable* parameters, i.e., a pair of $(\\alpha, \\beta)$ values is trained for each unit in the network."
      ]
    },
    {
      "cell_type": "markdown",
      "metadata": {
        "id": "5u4aF6Z4maHd"
      },
      "source": [
        "### Exercise 1: implement the PELU\n",
        "\n",
        "In TensorFlow, it is possible to implement new layers by subclassing `tf.keras.layers.Layer`:\n",
        "\n",
        "+ [Making new Layers and Models via subclassing](https://www.tensorflow.org/guide/keras/custom_layers_and_models)\n",
        "+ [Custom layers](https://www.tensorflow.org/tutorials/customization/custom_layers)\n",
        "+ [tf.keras.layers.Layer (documentation)](https://www.tensorflow.org/api_docs/python/tf/keras/layers/Layer)\n",
        "\n",
        "**Exercise 1**: *After carefully reading the guides*, complete the following implementation of the PELU activation function."
      ]
    },
    {
      "cell_type": "code",
      "metadata": {
        "id": "DfCpFg2xdug_"
      },
      "source": [
        "import math\n",
        "\n",
        "class PELU(tf.keras.layers.Layer):\n",
        "    def __init__(self, units=32):\n",
        "        super(PELU, self).__init__(self)\n",
        "        self.units = units\n",
        "\n",
        "    def build(self, input_shape):\n",
        "\n",
        "        a_init = tf.random.uniform((self.units,), minval=3, maxval=None, dtype=tf.dtypes.float32, seed=123, name=None)\n",
        "        self.a = tf.Variable(a_init, trainable=True)\n",
        "        b_init = tf.random.uniform((self.units,), minval=3, maxval=None, dtype=tf.dtypes.float32, seed=123, name=None)\n",
        "        self.b = tf.Variable(b_init, trainable=True)\n",
        "\n",
        "    \n",
        "    def call(self, inputs):\n",
        " \n",
        "        output = tf.where(inputs>=0, tf.math.multiply(tf.math.divide(self.a, self.b),inputs), tf.math.multiply(tf.math.subtract(tf.math.exp(tf.math.minimum(tf.math.divide(inputs, self.b),0)),1),self.a))\n",
        "        \n",
        "        return output\n",
        "\n",
        "    def get_config(self):\n",
        "        \n",
        "        return {\"units\": self.units}\n",
        "        "
      ],
      "execution_count": 6,
      "outputs": []
    },
    {
      "cell_type": "markdown",
      "metadata": {
        "id": "o8MEZxqbn8vs"
      },
      "source": [
        "**Hints for a correct implementation**:\n",
        "\n",
        "1. The layer (probably) requires two sets of trainable variables, whose shape depends on the number of units.\n",
        "2. From the definition of the PELU, $\\alpha, \\beta$ are required to be positive in order to ensure differentiability. The simplest way to handle this is to use a [constraint callable](https://www.tensorflow.org/api_docs/python/tf/keras/constraints) when creating the weight (see also the [documentation](https://www.tensorflow.org/api_docs/python/tf/keras/layers/Layer) for `add_weight`)."
      ]
    },
    {
      "cell_type": "markdown",
      "metadata": {
        "id": "-QY0TfCxo9yd"
      },
      "source": [
        "### Exercise 2: some preliminary tests\n",
        "\n",
        "To evaluate your implementation, let us start by creating a single PELU function:"
      ]
    },
    {
      "cell_type": "code",
      "metadata": {
        "id": "DFNFXarBe8DV"
      },
      "source": [
        "tf.random.set_seed(111)\n",
        "pelu = PELU(units=1)"
      ],
      "execution_count": 17,
      "outputs": []
    },
    {
      "cell_type": "markdown",
      "metadata": {
        "id": "RWY76mEepSgj"
      },
      "source": [
        "**Exercise 2.1**: plot the function using the skeleton code below."
      ]
    },
    {
      "cell_type": "code",
      "metadata": {
        "id": "jdK0CyscfDtC",
        "colab": {
          "base_uri": "https://localhost:8080/",
          "height": 404
        },
        "outputId": "62c15a2a-cdb6-4aac-b88d-ae776c13ebe8"
      },
      "source": [
        "import matplotlib.pyplot as plt\n",
        "x_range = tf.linspace(-5, 5, 200) # An equispaced grid of 200 points in [-5, +5]\n",
        "y_range = pelu(x_range)\n",
        "\n",
        "plt.plot(x_range.numpy(), y_range.numpy())"
      ],
      "execution_count": 18,
      "outputs": [
        {
          "output_type": "stream",
          "text": [
            "WARNING:tensorflow:Layer pelu_4 is casting an input tensor from dtype float64 to the layer's dtype of float32, which is new behavior in TensorFlow 2.  The layer has dtype float32 because its dtype defaults to floatx.\n",
            "\n",
            "If you intended to run this layer in float32, you can safely ignore this warning. If in doubt, this warning is likely only an issue if you are porting a TensorFlow 1.X model to TensorFlow 2.\n",
            "\n",
            "To change all layers to have dtype float64 by default, call `tf.keras.backend.set_floatx('float64')`. To change just this layer, pass dtype='float64' to the layer constructor. If you are the author of this layer, you can disable autocasting by passing autocast=False to the base Layer constructor.\n",
            "\n"
          ],
          "name": "stdout"
        },
        {
          "output_type": "execute_result",
          "data": {
            "text/plain": [
              "[<matplotlib.lines.Line2D at 0x7fc1b1397400>]"
            ]
          },
          "metadata": {
            "tags": []
          },
          "execution_count": 18
        },
        {
          "output_type": "display_data",
          "data": {
            "image/png": "[encoded data removed]",
            "text/plain": [
              "<Figure size 432x288 with 1 Axes>"
            ]
          },
          "metadata": {
            "tags": [],
            "needs_background": "light"
          }
        }
      ]
    },
    {
      "cell_type": "markdown",
      "metadata": {
        "id": "LyGIlR_aqayc"
      },
      "source": [
        "The derivative of a PELU function with respect to the $\\alpha$ parameter is given by [2]:\n",
        "\n",
        "$$\n",
        "\\frac{d\\phi(x)}{d\\alpha} =\n",
        "\\Biggl\\{ \n",
        "\\begin{align} \n",
        "\\frac{x}{\\beta} & \\;\\; \\text{ if } x \\ge 0 \\\\\n",
        " \\left(\\exp\\Bigl(\\frac{x}{\\beta}\\Bigr)- 1\\right) & \\;\\; \\text{ otherwise } \n",
        "\\end{align}\n",
        "\\Bigr.\n",
        "\\,,\n",
        "$$"
      ]
    },
    {
      "cell_type": "markdown",
      "metadata": {
        "id": "GnvkoRVAqwg1"
      },
      "source": [
        "**Exercise 2.2**: using a `tf.GradientTape` object, compute the derivative above using automatic differentiation, and check its correctness up to a certain numerical precision.\n",
        "\n",
        "**Hints for a correct implementation**:\n",
        "\n",
        "1. `tf.GradientTape` allows to compute the derivative *at a single point x*. If you prefer to avoid a loop over all possible points, consider using the `jacobian` function to obtain them in a single pass ([Advanced Automatic Differentiation](https://www.tensorflow.org/guide/advanced_autodiff)).\n",
        "2. Given two tensors x and y, a simple way to compute elementwise similarity up to a certain precision (e.g., $10^{-4}$), is given by `tf.reduce_all(tf.abs(x - y) < 1e-4)`.\n",
        "\n",
        "**Exercise 2.3 (optional)**: try the same for the $\\beta$ parameter (you can check the analytical formula for the gradient in the original paper [2]). **Careful**: the equation in the original paper has a missing $h$ (thanks to Davide Aureli and Federico Siciliano for spotting this). See [the correct derivation](https://www.wolframalpha.com/input/?i=d%28a*%28exp%28h%2Fb%29-1%29%29%2Fdb) on Wolfram Alpha."
      ]
    },
    {
      "cell_type": "code",
      "metadata": {
        "id": "HLHY5Lf1Nxhm"
      },
      "source": [
        "#getting the derivatives with GradientTape\n",
        "delta = pelu.a\n",
        "with tf.GradientTape() as g:\n",
        "  y = pelu(x_range)\n",
        "dy_dx = g.jacobian(y, delta)\n",
        "\n",
        "grads = tf.reshape(dy_dx, shape=(200,1))\n",
        "#print(grads)"
      ],
      "execution_count": 20,
      "outputs": []
    },
    {
      "cell_type": "code",
      "metadata": {
        "id": "PkRJdS-Vz2M3"
      },
      "source": [
        "#getting the derivatives by hand\n",
        "beta = pelu.b[0].numpy()\n",
        "\n",
        "derivatives = []\n",
        "for i in x_range: \n",
        "  if i >= 0:\n",
        "      derivatives.append([i/ beta])\n",
        "  else:\n",
        "      derivatives.append([math.exp(i/ beta)-1])\n",
        "\n",
        "derivatives = tf.convert_to_tensor(derivatives, dtype=\"float32\")\n",
        "#print(derivatives)"
      ],
      "execution_count": 21,
      "outputs": []
    },
    {
      "cell_type": "code",
      "metadata": {
        "colab": {
          "base_uri": "https://localhost:8080/"
        },
        "id": "o_1fMxYUzJXg",
        "outputId": "2c4aa4cf-6e20-45c7-f3fa-9716ef65c090"
      },
      "source": [
        "#compare the resutls\n",
        "tf.reduce_all(tf.abs(grads - derivatives) < 1e-4)"
      ],
      "execution_count": 22,
      "outputs": [
        {
          "output_type": "execute_result",
          "data": {
            "text/plain": [
              "<tf.Tensor: shape=(), dtype=bool, numpy=True>"
            ]
          },
          "metadata": {
            "tags": []
          },
          "execution_count": 22
        }
      ]
    },
    {
      "cell_type": "markdown",
      "metadata": {
        "id": "W7Jo-0tseokD"
      },
      "source": [
        "### Exercise 2.3"
      ]
    },
    {
      "cell_type": "code",
      "metadata": {
        "id": "idELE8h0eeMV"
      },
      "source": [
        "#Let's do the same thing but with the derivative w.r.t b\n",
        "\n",
        "#first we get the gradient with gradient tape\n",
        "delta = pelu.b\n",
        "with tf.GradientTape() as g:\n",
        "  y = tf.convert_to_tensor(pelu(x_range))\n",
        "dy_dx = g.jacobian(y, delta)\n",
        "\n",
        "grads = tf.reshape(dy_dx, shape=(200,1))\n",
        "\n",
        "#then we compute it by hand\n",
        "beta = beta = pelu.b[0].numpy()\n",
        "alpha = pelu.a[0].numpy()\n",
        "derivatives = []\n",
        "for i in x_range: \n",
        "  if i >= 0:\n",
        "      derivatives.append([- (alpha/(beta**2))*i])\n",
        "  else:\n",
        "      derivatives.append([-(alpha*i*math.exp(i/beta))/(beta**2)])\n",
        "\n",
        "derivatives = tf.convert_to_tensor(derivatives, dtype=\"float32\")"
      ],
      "execution_count": 23,
      "outputs": []
    },
    {
      "cell_type": "code",
      "metadata": {
        "colab": {
          "base_uri": "https://localhost:8080/"
        },
        "id": "2n1jkSo7e7KQ",
        "outputId": "dcb8a169-4188-42c5-82c3-55a57bfc3d58"
      },
      "source": [
        "#and now we can check the results\n",
        "tf.reduce_all(tf.abs(grads - derivatives) < 1e-4)"
      ],
      "execution_count": 24,
      "outputs": [
        {
          "output_type": "execute_result",
          "data": {
            "text/plain": [
              "<tf.Tensor: shape=(), dtype=bool, numpy=True>"
            ]
          },
          "metadata": {
            "tags": []
          },
          "execution_count": 24
        }
      ]
    },
    {
      "cell_type": "markdown",
      "metadata": {
        "id": "7yjnVl6Ysm7F"
      },
      "source": [
        "### Exercise 3: PELU in practice\n",
        "\n",
        "Consider a simple model built with the PELU activation function, as below."
      ]
    },
    {
      "cell_type": "markdown",
      "metadata": {
        "id": "BvVbeTDwtdbu"
      },
      "source": [
        "**Exercise 3**: load any classification dataset, and train the model above (using either a custom training loop or `model.fit(...)`). Additionally, compare with a standard ReLU activation."
      ]
    },
    {
      "cell_type": "code",
      "metadata": {
        "colab": {
          "base_uri": "https://localhost:8080/"
        },
        "id": "JtgDyVjYq38-",
        "outputId": "7f6dbd20-2287-4217-a443-e8537e391c25"
      },
      "source": [
        "#Fetching the dataset\n",
        "! wget https://archive.ics.uci.edu/ml/machine-learning-databases/00325/Sensorless_drive_diagnosis.txt"
      ],
      "execution_count": 25,
      "outputs": [
        {
          "output_type": "stream",
          "text": [
            "--2020-11-23 17:35:37--  https://archive.ics.uci.edu/ml/machine-learning-databases/00325/Sensorless_drive_diagnosis.txt\n",
            "Resolving archive.ics.uci.edu (archive.ics.uci.edu)... 128.195.10.252\n",
            "Connecting to archive.ics.uci.edu (archive.ics.uci.edu)|128.195.10.252|:443... connected.\n",
            "HTTP request sent, awaiting response... 200 OK\n",
            "Length: 25619870 (24M) [application/x-httpd-php]\n",
            "Saving to: ‘Sensorless_drive_diagnosis.txt’\n",
            "\n",
            "Sensorless_drive_di 100%[===================>]  24.43M  48.2MB/s    in 0.5s    \n",
            "\n",
            "2020-11-23 17:35:37 (48.2 MB/s) - ‘Sensorless_drive_diagnosis.txt’ saved [25619870/25619870]\n",
            "\n"
          ],
          "name": "stdout"
        }
      ]
    },
    {
      "cell_type": "code",
      "metadata": {
        "id": "HEoLAfOdq69z"
      },
      "source": [
        "#Preparing the dataset\n",
        "from tensorflow.keras.layers.experimental.preprocessing import Normalization\n",
        "from tensorflow.keras import Sequential\n",
        "from sklearn import model_selection\n",
        "import pandas as pd\n",
        "\n",
        "sensorless = pd.read_csv('Sensorless_drive_diagnosis.txt', header=None, sep=' ')\n",
        "X = sensorless.values[:, 0:-1].astype('float32')\n",
        "y = sensorless.values[:, -1:].astype('int64') - 1\n",
        "X_tr, X_tst, y_tr, y_tst = model_selection.train_test_split(X, y, stratify=y)\n",
        "train_dataset = tf.data.Dataset.from_tensor_slices((X_tr, y_tr))\n",
        "train_dataset = train_dataset.shuffle(1000).batch(32)\n",
        "\n",
        "def take_first_element(xb, yb):\n",
        "  return xb\n",
        "\n",
        "normalizer = Normalization()\n",
        "normalizer.adapt(train_dataset.map(take_first_element))\n",
        "\n",
        "test_dataset = tf.data.Dataset.from_tensor_slices((X_tst, y_tst)).batch(32)"
      ],
      "execution_count": 26,
      "outputs": []
    },
    {
      "cell_type": "code",
      "metadata": {
        "id": "HF5S67DDs7xr",
        "colab": {
          "base_uri": "https://localhost:8080/"
        },
        "outputId": "b847afa7-3929-4514-8144-59b9fc92c40e"
      },
      "source": [
        "#Preparing the model \n",
        "tf.random.set_seed(1900)\n",
        "from tensorflow.keras import optimizers\n",
        "from tensorflow.keras import losses\n",
        "from tensorflow.keras import metrics\n",
        "\n",
        "\n",
        "model = tf.keras.Sequential(layers=[\n",
        "      normalizer,\n",
        "      tf.keras.layers.Dense(50),\n",
        "      PELU(50) ,\n",
        "      tf.keras.layers.Dense(11, activation='softmax')\n",
        "])\n",
        "\n",
        "adam = optimizers.Adam(learning_rate=1e-3)\n",
        "cross_entropy = losses.SparseCategoricalCrossentropy()\n",
        "acc = metrics.SparseCategoricalAccuracy()\n",
        "\n",
        "#model.build((32,48))\n",
        "model.summary()"
      ],
      "execution_count": 29,
      "outputs": [
        {
          "output_type": "stream",
          "text": [
            "Model: \"sequential_1\"\n",
            "_________________________________________________________________\n",
            "Layer (type)                 Output Shape              Param #   \n",
            "=================================================================\n",
            "normalization (Normalization (None, 48)                97        \n",
            "_________________________________________________________________\n",
            "dense_2 (Dense)              (None, 50)                2450      \n",
            "_________________________________________________________________\n",
            "pelu_6 (PELU)                (None, 50)                100       \n",
            "_________________________________________________________________\n",
            "dense_3 (Dense)              (None, 11)                561       \n",
            "=================================================================\n",
            "Total params: 3,208\n",
            "Trainable params: 3,111\n",
            "Non-trainable params: 97\n",
            "_________________________________________________________________\n"
          ],
          "name": "stdout"
        }
      ]
    },
    {
      "cell_type": "code",
      "metadata": {
        "id": "G0rB6YoypeFS"
      },
      "source": [
        "model.compile(optimizer=adam,\n",
        "              loss=cross_entropy,\n",
        "              metrics=[acc])"
      ],
      "execution_count": 30,
      "outputs": []
    },
    {
      "cell_type": "code",
      "metadata": {
        "colab": {
          "base_uri": "https://localhost:8080/"
        },
        "id": "_jaKnPI5r7zV",
        "outputId": "301ad4ce-5a53-45db-cbe2-e3dab1ab0fa4"
      },
      "source": [
        "model.fit(train_dataset, epochs=10, validation_data=test_dataset)"
      ],
      "execution_count": 31,
      "outputs": [
        {
          "output_type": "stream",
          "text": [
            "Epoch 1/10\n",
            "1372/1372 [==============================] - 4s 3ms/step - loss: 0.7378 - sparse_categorical_accuracy: 0.7722 - val_loss: 0.3115 - val_sparse_categorical_accuracy: 0.9122\n",
            "Epoch 2/10\n",
            "1372/1372 [==============================] - 4s 3ms/step - loss: 0.2312 - sparse_categorical_accuracy: 0.9278 - val_loss: 0.2167 - val_sparse_categorical_accuracy: 0.9362\n",
            "Epoch 3/10\n",
            "1372/1372 [==============================] - 4s 3ms/step - loss: 0.1689 - sparse_categorical_accuracy: 0.9455 - val_loss: 0.1879 - val_sparse_categorical_accuracy: 0.9506\n",
            "Epoch 4/10\n",
            "1372/1372 [==============================] - 4s 3ms/step - loss: 0.1424 - sparse_categorical_accuracy: 0.9546 - val_loss: 0.1610 - val_sparse_categorical_accuracy: 0.9560\n",
            "Epoch 5/10\n",
            "1372/1372 [==============================] - 4s 3ms/step - loss: 0.1250 - sparse_categorical_accuracy: 0.9603 - val_loss: 0.1501 - val_sparse_categorical_accuracy: 0.9583\n",
            "Epoch 6/10\n",
            "1372/1372 [==============================] - 4s 3ms/step - loss: 0.1150 - sparse_categorical_accuracy: 0.9640 - val_loss: 0.1438 - val_sparse_categorical_accuracy: 0.9621\n",
            "Epoch 7/10\n",
            "1372/1372 [==============================] - 4s 3ms/step - loss: 0.1012 - sparse_categorical_accuracy: 0.9680 - val_loss: 0.1323 - val_sparse_categorical_accuracy: 0.9636\n",
            "Epoch 8/10\n",
            "1372/1372 [==============================] - 4s 3ms/step - loss: 0.0899 - sparse_categorical_accuracy: 0.9710 - val_loss: 0.1191 - val_sparse_categorical_accuracy: 0.9710\n",
            "Epoch 9/10\n",
            "1372/1372 [==============================] - 4s 3ms/step - loss: 0.0814 - sparse_categorical_accuracy: 0.9741 - val_loss: 0.1162 - val_sparse_categorical_accuracy: 0.9725\n",
            "Epoch 10/10\n",
            "1372/1372 [==============================] - 4s 3ms/step - loss: 0.0750 - sparse_categorical_accuracy: 0.9753 - val_loss: 0.1167 - val_sparse_categorical_accuracy: 0.9729\n"
          ],
          "name": "stdout"
        },
        {
          "output_type": "execute_result",
          "data": {
            "text/plain": [
              "<tensorflow.python.keras.callbacks.History at 0x7fc1a855c048>"
            ]
          },
          "metadata": {
            "tags": []
          },
          "execution_count": 31
        }
      ]
    },
    {
      "cell_type": "code",
      "metadata": {
        "id": "dpHI1HfbzAQF",
        "colab": {
          "base_uri": "https://localhost:8080/"
        },
        "outputId": "a7feff4d-6bcd-4032-f369-5cdefee8e2c3"
      },
      "source": [
        "#Comparing it with a model that uses a ReLu\n",
        "#tf.random.set_seed(1900)\n",
        "\n",
        "model2 = tf.keras.Sequential(layers=[\n",
        "      tf.keras.layers.Dense(50),\n",
        "      tf.keras.layers.ReLU(50) ,\n",
        "      tf.keras.layers.Dense(11, activation='softmax')\n",
        "])\n",
        "\n",
        "adam = optimizers.Adam(learning_rate=1e-3)\n",
        "model2.compile(optimizer=adam,\n",
        "              loss=cross_entropy,\n",
        "              metrics=[acc])\n",
        "\n",
        "model2.fit(train_dataset, epochs=10, validation_data=test_dataset) "
      ],
      "execution_count": 32,
      "outputs": [
        {
          "output_type": "stream",
          "text": [
            "Epoch 1/10\n",
            "1372/1372 [==============================] - 3s 2ms/step - loss: 2.2189 - sparse_categorical_accuracy: 0.4330 - val_loss: 1.8125 - val_sparse_categorical_accuracy: 0.4141\n",
            "Epoch 2/10\n",
            "1372/1372 [==============================] - 3s 2ms/step - loss: 1.5617 - sparse_categorical_accuracy: 0.4879 - val_loss: 1.3294 - val_sparse_categorical_accuracy: 0.5891\n",
            "Epoch 3/10\n",
            "1372/1372 [==============================] - 3s 2ms/step - loss: 1.1558 - sparse_categorical_accuracy: 0.6309 - val_loss: 1.0048 - val_sparse_categorical_accuracy: 0.6832\n",
            "Epoch 4/10\n",
            "1372/1372 [==============================] - 3s 2ms/step - loss: 0.8901 - sparse_categorical_accuracy: 0.7228 - val_loss: 0.8018 - val_sparse_categorical_accuracy: 0.7477\n",
            "Epoch 5/10\n",
            "1372/1372 [==============================] - 3s 2ms/step - loss: 0.7156 - sparse_categorical_accuracy: 0.7811 - val_loss: 0.6654 - val_sparse_categorical_accuracy: 0.7935\n",
            "Epoch 6/10\n",
            "1372/1372 [==============================] - 3s 2ms/step - loss: 0.5962 - sparse_categorical_accuracy: 0.8201 - val_loss: 0.5668 - val_sparse_categorical_accuracy: 0.8221\n",
            "Epoch 7/10\n",
            "1372/1372 [==============================] - 3s 2ms/step - loss: 0.5170 - sparse_categorical_accuracy: 0.8377 - val_loss: 0.4970 - val_sparse_categorical_accuracy: 0.8396\n",
            "Epoch 8/10\n",
            "1372/1372 [==============================] - 3s 2ms/step - loss: 0.4626 - sparse_categorical_accuracy: 0.8521 - val_loss: 0.4479 - val_sparse_categorical_accuracy: 0.8608\n",
            "Epoch 9/10\n",
            "1372/1372 [==============================] - 3s 2ms/step - loss: 0.4208 - sparse_categorical_accuracy: 0.8630 - val_loss: 0.4105 - val_sparse_categorical_accuracy: 0.8685\n",
            "Epoch 10/10\n",
            "1372/1372 [==============================] - 3s 3ms/step - loss: 0.3947 - sparse_categorical_accuracy: 0.8663 - val_loss: 0.4283 - val_sparse_categorical_accuracy: 0.8535\n"
          ],
          "name": "stdout"
        },
        {
          "output_type": "execute_result",
          "data": {
            "text/plain": [
              "<tensorflow.python.keras.callbacks.History at 0x7fc1a7ad5b00>"
            ]
          },
          "metadata": {
            "tags": []
          },
          "execution_count": 32
        }
      ]
    },
    {
      "cell_type": "markdown",
      "metadata": {
        "id": "nkb3cj9r7uUH"
      },
      "source": [
        "### Optional: understanding saving/loading of models"
      ]
    },
    {
      "cell_type": "markdown",
      "metadata": {
        "id": "pEjaJQT06jh9"
      },
      "source": [
        "TensorFlow has several options for saving or loading objects from the disk:\n",
        "\n",
        "1. [Save and load Keras models](https://www.tensorflow.org/guide/keras/save_and_serialize/)\n",
        "\n",
        "In many cases, custom classes require the implementation of a `get_config` / `from_config` functions to define the serialization behaviour.\n",
        "\n",
        "**Exercise 4 (optional)**: implement the `get_config` method and test your implementation as below (taken from the guide on saving and loading models)."
      ]
    },
    {
      "cell_type": "code",
      "metadata": {
        "id": "voxx7kntvM0W",
        "colab": {
          "base_uri": "https://localhost:8080/"
        },
        "outputId": "b8197ff9-7483-4e34-90f6-aeecafb63567"
      },
      "source": [
        "model.save('pelu_model')\n",
        "del PELU # This is needed to remove any reference to PELU from memory\n",
        "reloaded_model = tf.keras.models.load_model('pelu_model')"
      ],
      "execution_count": 33,
      "outputs": [
        {
          "output_type": "stream",
          "text": [
            "WARNING:tensorflow:From /usr/local/lib/python3.6/dist-packages/tensorflow/python/training/tracking/tracking.py:111: Model.state_updates (from tensorflow.python.keras.engine.training) is deprecated and will be removed in a future version.\n",
            "Instructions for updating:\n",
            "This property should not be used in TensorFlow 2.0, as updates are applied automatically.\n",
            "WARNING:tensorflow:From /usr/local/lib/python3.6/dist-packages/tensorflow/python/training/tracking/tracking.py:111: Layer.updates (from tensorflow.python.keras.engine.base_layer) is deprecated and will be removed in a future version.\n",
            "Instructions for updating:\n",
            "This property should not be used in TensorFlow 2.0, as updates are applied automatically.\n",
            "INFO:tensorflow:Assets written to: pelu_model/assets\n"
          ],
          "name": "stdout"
        }
      ]
    },
    {
      "cell_type": "code",
      "metadata": {
        "id": "838PN8xN0rIW",
        "colab": {
          "base_uri": "https://localhost:8080/"
        },
        "outputId": "9ea9bc76-e15e-4778-f741-c51e604e43aa"
      },
      "source": [
        "print(\"Original model:\", model)\n",
        "print(\"Loaded model:\", reloaded_model) # Observe that the object has been dynamically recreated in absence of the configuration options"
      ],
      "execution_count": 34,
      "outputs": [
        {
          "output_type": "stream",
          "text": [
            "Original model: <tensorflow.python.keras.engine.sequential.Sequential object at 0x7fc1a8668a20>\n",
            "Loaded model: <tensorflow.python.keras.engine.sequential.Sequential object at 0x7fc1a17490b8>\n"
          ],
          "name": "stdout"
        }
      ]
    },
    {
      "cell_type": "markdown",
      "metadata": {
        "id": "Rl9dZ3HambSz"
      },
      "source": [
        "### References\n",
        "\n",
        "[1] Clevert, D.A., Unterthiner, T. and Hochreiter, S., 2015. [Fast and accurate deep network learning by exponential linear units (ELUs)](https://arxiv.org/abs/1511.07289). arXiv preprint arXiv:1511.07289.\n",
        "\n",
        "[2] Trottier, L., Gigu, P. and Chaib-draa, B., 2017. [Parametric exponential linear unit for deep convolutional neural networks](https://arxiv.org/abs/1605.09332). In 2017 16th IEEE International Conference on Machine Learning and Applications (ICMLA) (pp. 207-214). IEEE."
      ]
    }
  ]
}